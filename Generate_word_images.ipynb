{
 "cells": [
  {
   "cell_type": "code",
   "execution_count": 96,
   "metadata": {
    "collapsed": false
   },
   "outputs": [],
   "source": [
    "import glob\n",
    "from PIL import Image, ImageFont, ImageDraw\n",
    "import os\n",
    "import fnmatch\n",
    "import matplotlib\n",
    "import random\n",
    "from matplotlib import pyplot as plt\n",
    "from pathlib import Path\n",
    "import matplotlib.image as mpimg\n",
    "import numpy as np\n",
    "import re\n",
    "import cv2\n",
    "import itertools\n",
    "%matplotlib inline"
   ]
  },
  {
   "cell_type": "markdown",
   "metadata": {},
   "source": [
    "## List of fonts"
   ]
  },
  {
   "cell_type": "code",
   "execution_count": 12,
   "metadata": {
    "collapsed": false
   },
   "outputs": [],
   "source": [
    "fonts_list = []\n",
    "for root, dirnames, filenames in os.walk('./fonts_new/'):\n",
    "    for filename in fnmatch.filter(filenames, '*.ttf'):\n",
    "        fonts_list.append(os.path.join(root, filename))\n"
   ]
  },
  {
   "cell_type": "markdown",
   "metadata": {},
   "source": [
    "## List of words"
   ]
  },
  {
   "cell_type": "code",
   "execution_count": 13,
   "metadata": {
    "collapsed": false
   },
   "outputs": [],
   "source": [
    "word_list = []\n",
    "f = open('balanced_words.txt','rb')\n",
    "lines = f.readlines()\n",
    "f.close()\n",
    "for line in lines:\n",
    "    word = re.sub(r'[^a-zA-Z]','',line)\n",
    "    word_list.append(word.lower())\n"
   ]
  },
  {
   "cell_type": "markdown",
   "metadata": {},
   "source": [
    "## Word images in different fonts"
   ]
  },
  {
   "cell_type": "code",
   "execution_count": 10,
   "metadata": {
    "collapsed": false
   },
   "outputs": [],
   "source": [
    "background_images = []\n",
    "for i in range(1, 6):\n",
    "    my_file = Path('./map_textures/map_crop_0' + str(i) + '.jpg')\n",
    "    if my_file.is_file():\n",
    "        img = mpimg.imread('./map_textures/map_crop_0' + str(i) + '.jpg')\n",
    "        background_images.append(img)\n",
    "\n",
    "def changeCase(word):\n",
    "    case = random.randint(0, 2)\n",
    "\n",
    "    # Explicitly getting capital words. Uncomment following line to get all types.\n",
    "    case = 2\n",
    "\n",
    "    if case == 0:\n",
    "        # get lowercase word\n",
    "        return word.lower()\n",
    "    elif case == 1:\n",
    "        # get camelcase word\n",
    "        return word[0].upper() + word[1:]\n",
    "    else:\n",
    "        # get uppercase word\n",
    "        return word.upper()\n",
    "\n",
    "    \n",
    "def get_random_crop():\n",
    "    image_number = random.randint(1, 1)\n",
    "    img = background_images[image_number - 1]\n",
    "    # print(img.shape)\n",
    "    height, width = img.shape[0], img.shape[1]\n",
    "    start_row = random.randint(0, height - 227)\n",
    "    start_column = random.randint(0, width - 227)\n",
    "    new_img = img[start_row:start_row + 227, start_column:start_column + 227, :]\n",
    "    new_img = new_img[..., list(list(itertools.permutations([0, 1, 2]))[random.randint(0, 5)])]\n",
    "    # print new_img.shape\n",
    "    return new_img\n",
    "\n",
    "def getImageFromWord(word):\n",
    "    word = changeCase(word)\n",
    "\n",
    "    W, H = (227,227)\n",
    "    #word = word_list[random.randint(0,len(word_list)-1)]\n",
    "    for font_name in fonts_list:\n",
    "        fontsize = 2\n",
    "        img_fraction = 0.75\n",
    "        font = ImageFont.truetype(font_name, fontsize)\n",
    "        image = Image.new(\"RGBA\",(W,H),\"white\")\n",
    "        while font.getsize(word)[0] < img_fraction*image.size[0]:\n",
    "            # iterate until the text size is just larger than the criteria\n",
    "            fontsize += 1\n",
    "            font = ImageFont.truetype(font_name, fontsize)\n",
    "\n",
    "    draw = ImageDraw.Draw(image)\n",
    "    w, h = font.getsize(word)\n",
    "    draw.text((10,10), word, font=font, fill=\"black\")\n",
    "    image = image.crop((0,10,w+20,h+20))\n",
    "    plt.imshow(image)\n",
    "    plt.show()\n",
    "    rotateFlag = random.randint(0, 1)\n",
    "    if rotateFlag:\n",
    "        rotateAngle = random.randint(-10, 10)\n",
    "        M = cv2.getRotationMatrix2D((width / 2, height / 2), rotateAngle, 1)\n",
    "        img = cv2.warpAffine(img, M, (width, height), borderValue=(255, 255, 255))\n",
    "\n",
    "    affineFlag = random.randint(0, 1)\n",
    "    if affineFlag:\n",
    "        pts1 = np.float32([[10, 10], [200, 50], [50, 200]])\n",
    "        pts2 = np.float32([[10 + random.randint(-20, 20), 30 + random.randint(-20, 20)]\n",
    "                              , [200, 50],\n",
    "                           [50 + random.randint(-20, 20), 200 + random.randint(-20, 20)]])\n",
    "\n",
    "        M = cv2.getAffineTransform(pts1, pts2)\n",
    "        img = cv2.warpAffine(img, M, (width, height), borderValue=(255, 255, 255))\n",
    "\n",
    "    img = cv2.resize(img, (227, 227))\n",
    "    bg_image = get_random_crop()\n",
    "    bg_image = cv2.resize(bg_image, (227, 227))\n",
    "    bg_image = merge_background_text(img, bg_image)\n",
    "    # print(bg_image.shape)\n",
    "    # img = np.add(img,bg_image)\n",
    "    # plt.imshow(img)\n",
    "    # print img.shape\n",
    "\n",
    "\n",
    "    gray = cv2.cvtColor(bg_image, cv2.COLOR_BGR2GRAY)\n",
    "    ret, thresh1 = cv2.threshold(gray, 127, 255, cv2.THRESH_BINARY_INV)\n",
    "    # print(bg_image.shape)\n",
    "    new_img = np.zeros((227, 227, 3), np.uint8)\n",
    "    new_img[:, :, :] = 255\n",
    "    for i in range(new_img.shape[0]):\n",
    "        for j in range(new_img.shape[1]):\n",
    "            if thresh1[i, j] == 255:\n",
    "                new_img[i, j, :] = 0\n",
    "    return np.copy(new_img), np.copy(bg_image)"
   ]
  },
  {
   "cell_type": "code",
   "execution_count": 176,
   "metadata": {
    "collapsed": false
   },
   "outputs": [
    {
     "name": "stdout",
     "output_type": "stream",
     "text": [
      "(37, 185)\n",
      "(74, 370, 3)\n"
     ]
    },
    {
     "data": {
      "text/plain": [
       "<matplotlib.image.AxesImage at 0x12920ff50>"
      ]
     },
     "execution_count": 176,
     "metadata": {},
     "output_type": "execute_result"
    },
    {
     "data": {
      "image/png": "[encoded data removed]",
      "text/plain": [
       "<matplotlib.figure.Figure at 0x126630b90>"
      ]
     },
     "metadata": {},
     "output_type": "display_data"
    }
   ],
   "source": [
    "background_images = []\n",
    "for i in range(1, 6):\n",
    "    my_file = Path('./map_textures/map_crop_0' + str(i) + '.jpg')\n",
    "    if my_file.is_file():\n",
    "        img = mpimg.imread('./map_textures/map_crop_0' + str(i) + '.jpg')\n",
    "        background_images.append(img)\n",
    "\n",
    "def get_random_crop(size):\n",
    "    print size\n",
    "    image_number = random.randint(0, len(background_images)-1)\n",
    "    img = background_images[image_number]\n",
    "    # print(img.shape)\n",
    "    height, width = img.shape[0], img.shape[1]\n",
    "    start_row = random.randint(0, height - size[0]*2)\n",
    "    start_column = random.randint(0, width - size[1]*2)\n",
    "    new_img = img[start_row:start_row + size[0]*2, start_column:start_column + size[1]*2, :]\n",
    "    new_img = new_img[..., list(list(itertools.permutations([0, 1, 2]))[random.randint(0, 5)])]\n",
    "    print new_img.shape\n",
    "    result = cv2.resize(new_img,(size[1],size[0]))\n",
    "    return result\n",
    "\n",
    "def changeCase(word):\n",
    "    case = random.randint(1, 2)\n",
    "\n",
    "    # Explicitly getting capital words. Uncomment following line to get all types.\n",
    "\n",
    "    if case == 0:\n",
    "        # get lowercase word\n",
    "        return word.lower()\n",
    "    elif case == 1:\n",
    "        # get camelcase word\n",
    "        return word[0].upper() + word[1:]\n",
    "    else:\n",
    "        # get uppercase word\n",
    "        return word.upper()\n",
    "    \n",
    "def merge_background_text(img, bg_image):\n",
    "    (r,g,b) = (random.randint(0,20),random.randint(0,20),random.randint(0,20))\n",
    "    for i in range(img.shape[0]):\n",
    "        for j in range(img.shape[1]):\n",
    "            if img[i, j] != 255:\n",
    "                if random.random()<0.95:\n",
    "                    bg_image[i, j, 0] = r\n",
    "                    bg_image[i, j, 1] = g\n",
    "                    bg_image[i, j, 2] = b\n",
    "    kernel = np.ones((3,3),np.float32)/9\n",
    "    bg_image = cv2.filter2D(bg_image,-1,kernel)\n",
    "#     bg_image = cv2.resize(bg_image, (227,227))\n",
    "    return bg_image\n",
    "\n",
    "def get_word_image(word):\n",
    "    W, H = (227,227)\n",
    "    #word = word_list[random.randint(0,len(word_list)-1)]\n",
    "    word = changeCase(word)\n",
    "    font_name = fonts_list[random.randint(0,len(fonts_list)-1)]\n",
    "    fontsize = 2\n",
    "    img_fraction = 0.75\n",
    "    font = ImageFont.truetype(font_name, fontsize)\n",
    "    image = Image.new(\"L\",(W,H),\"white\")\n",
    "    while font.getsize(word)[0] < img_fraction*image.size[0]:\n",
    "        # iterate until the text size is just larger than the criteria\n",
    "        fontsize += 1\n",
    "        font = ImageFont.truetype(font_name, fontsize)\n",
    "\n",
    "    draw = ImageDraw.Draw(image)\n",
    "    w, h = font.getsize(word)\n",
    "    draw.text((W/2 - w/2,H/2-h/2), word, font=font, fill=\"black\")\n",
    "#     image = image.crop((0,10,w+20,h+20))\n",
    "    return image\n",
    "\n",
    "def pad_image(img):\n",
    "    (W,H) = (227, 227)\n",
    "    (h, w) = (img.shape[0], img.shape[1])\n",
    "    constant= cv2.copyMakeBorder(img,(H-h)/2, (H - (h+(H-h)/2)),(W-w)/2,(W - (w+(W-w)/2)),cv2.BORDER_CONSTANT,value=(255,255,255))\n",
    "    return constant\n",
    "    \n",
    "    \n",
    "    \n",
    "def transform_image(img):\n",
    "    W, H = (512,512)\n",
    "#     img = cv2.resize(img, (W, H))\n",
    "    width,height = (512,512)\n",
    "    rotateFlag = random.randint(0, 1)\n",
    "    if rotateFlag:\n",
    "        rotateAngle = random.randint(-10, 10)\n",
    "        M = cv2.getRotationMatrix2D((width / 2, height / 2), rotateAngle, 1)\n",
    "        img = cv2.warpAffine(img, M, (width, height), borderValue=(255, 255, 255))\n",
    "\n",
    "    affineFlag = random.randint(0, 1)\n",
    "    if affineFlag:\n",
    "        pts1 = np.float32([[10, 10], [200, 50], [50, 200]])\n",
    "        pts2 = np.float32([[10 + random.randint(-20, 20), 30 + random.randint(-20, 20)]\n",
    "                              , [200, 50],\n",
    "                           [50 + random.randint(-20, 20), 200 + random.randint(-20, 20)]])\n",
    "\n",
    "        M = cv2.getAffineTransform(pts1, pts2)\n",
    "        img = cv2.warpAffine(img, M, (width, height), borderValue=(255, 255, 255))\n",
    "    min_row = H\n",
    "    max_row = 0\n",
    "    min_col = W\n",
    "    max_col = 0\n",
    "    ret,thresh1 = cv2.threshold(img,127,255,cv2.THRESH_BINARY)\n",
    "\n",
    "    for i in range(thresh1.shape[0]):\n",
    "        for j in range(thresh1.shape[1]):\n",
    "            if thresh1[i][j]==0:\n",
    "                if i<min_row:\n",
    "                    min_row = i\n",
    "                if i>max_row:\n",
    "                    max_row = i\n",
    "                if j < min_col:\n",
    "                    min_col = j\n",
    "                if j > max_col:\n",
    "                    max_col = j\n",
    "    \n",
    "    thresh1 = thresh1[min_row-10:max_row+10, min_col-10:max_col+10]\n",
    "    \n",
    "    return thresh1\n",
    "\n",
    "\n",
    "def get_color_text_image(word):\n",
    "    try:\n",
    "        img = np.array(get_word_image(word))\n",
    "        img = transform_image(img)\n",
    "        bg_image = get_random_crop(img.shape)\n",
    "        result = merge_background_text(img, bg_image)\n",
    "        padded_result = pad_image(result)\n",
    "    except Exception as e:\n",
    "        print e\n",
    "        return False\n",
    "    return padded_result\n",
    "\n"
   ]
  },
  {
   "cell_type": "code",
   "execution_count": 132,
   "metadata": {
    "collapsed": false
   },
   "outputs": [
    {
     "data": {
      "text/plain": [
       "0.23925848529471894"
      ]
     },
     "execution_count": 132,
     "metadata": {},
     "output_type": "execute_result"
    }
   ],
   "source": [
    "random.random()"
   ]
  },
  {
   "cell_type": "code",
   "execution_count": 179,
   "metadata": {
    "collapsed": false
   },
   "outputs": [
    {
     "name": "stdout",
     "output_type": "stream",
     "text": [
      "{'a': 697, 'c': 333, 'b': 139, 'e': 960, 'd': 246, 'g': 207, 'f': 102, 'i': 779, 'h': 204, 'k': 107, 'j': 43, 'm': 235, 'l': 418, 'o': 616, 'n': 658, 'q': 48, 'p': 209, 's': 550, 'r': 596, 'u': 341, 't': 593, 'w': 93, 'v': 106, 'y': 185, 'x': 72, 'z': 80}\n"
     ]
    }
   ],
   "source": [
    "d = {chr(i):0 for i in range(97,97+26)}\n",
    "for word in word_list:\n",
    "    word = word.lower()\n",
    "    for ch in word:\n",
    "        d[ch]+=1\n",
    "print d"
   ]
  },
  {
   "cell_type": "code",
   "execution_count": null,
   "metadata": {
    "collapsed": true
   },
   "outputs": [],
   "source": []
  }
 ],
 "metadata": {
  "kernelspec": {
   "display_name": "Python 2",
   "language": "python",
   "name": "python2"
  },
  "language_info": {
   "codemirror_mode": {
    "name": "ipython",
    "version": 2
   },
   "file_extension": ".py",
   "mimetype": "text/x-python",
   "name": "python",
   "nbconvert_exporter": "python",
   "pygments_lexer": "ipython2",
   "version": "2.7.10"
  }
 },
 "nbformat": 4,
 "nbformat_minor": 0
}
